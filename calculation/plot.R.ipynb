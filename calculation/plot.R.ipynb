{
 "cells": [
  {
   "cell_type": "code",
   "execution_count": 15,
   "id": "f84e1b39-a4aa-450e-9af5-9a50e5ec4a3e",
   "metadata": {},
   "outputs": [],
   "source": [
    "library(ggplot2)\n",
    "library(tidyverse)\n",
    "library(ggrepel)\n",
    "\n",
    "dev.off()\n",
    "suff = \"sum\"\n",
    "for (use_src in c(\"BA.5+BF.7\",\"BA.5+BF.7+BA.1_reinfect+BA.2_reinfect\")) {\n",
    "    data <- read.csv(paste(\"tmp_data-\",suff,\".csv\",sep=\"\"))\n",
    "    force_label <- c()\n",
    "    pdf(paste(\"Rplot-split-\",use_src, '-',suff,\".pdf\",sep=\"\"), width=12, height=3)\n",
    "    for (use_weight in c(\"BA5_IC50\", \"XBB1_5_IC50\")) {\n",
    "\n",
    "        p <- ggplot(data %>% filter(absrc==use_src & weight == use_weight), aes(site, mut_escape_adj)) + \n",
    "            geom_line(color=\"#A03429\", size=0.8, alpha=0.8) + geom_point(color=\"#A03429\", shape=21)+ theme_classic() + theme(\n",
    "                axis.text.y=element_blank(),\n",
    "                axis.ticks.y=element_blank(),\n",
    "                axis.text.x=element_text(angle=90, vjust=0.5)\n",
    "            )+scale_x_continuous(breaks=seq(331,531,2))+scale_color_manual(values=colors)+\n",
    "            ylab('weighted escape score')+xlab('RBD residues')+\n",
    "            ggtitle(paste(\"Source:\", use_src, \n",
    "                          ' Weight:', use_weight, \n",
    "                          ' Expr:', data$expr_coef[1],\n",
    "                          ' Bind:', data$bind_coef[1],\n",
    "                          ' Codon:', data$is_codon[1],\n",
    "                          ' LogTrans:', data$is_neut_log[1],\n",
    "                          ' SiteMax:', data$is_max[1]))\n",
    "        +geom_label_repel(data=data %>% filter(absrc == use_src & weight == use_weight & (mut_escape_adj > 0.2 | (mut_escape_adj > 0.03 & site %in% force_label))) %>% group_by(site) %>% summarise(mut_escape_adj=max(mut_escape_adj)), \n",
    "                            aes(label=site), min.segment.length = 0, direction=\"both\", fill = alpha(c(\"white\"),0.5))\n",
    "        print(p)\n",
    "    }\n",
    "    dev.off()\n",
    "}\n"
   ]
  }
 ],
 "metadata": {
  "kernelspec": {
   "display_name": "R",
   "language": "R",
   "name": "ir"
  },
  "language_info": {
   "codemirror_mode": "r",
   "file_extension": ".r",
   "mimetype": "text/x-r-source",
   "name": "R",
   "pygments_lexer": "r",
   "version": "4.1.0"
  }
 },
 "nbformat": 4,
 "nbformat_minor": 5
}
